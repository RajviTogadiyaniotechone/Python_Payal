{
 "cells": [
  {
   "cell_type": "code",
   "execution_count": 3,
   "id": "8e91e44a-55fd-4257-9ebe-1826a2cdb3aa",
   "metadata": {},
   "outputs": [
    {
     "name": "stdout",
     "output_type": "stream",
     "text": [
      "         Date    Product Region  Quantity Sold  Unit Price  Total Revenue\n",
      "0  01-01-2023  Product B  South             17        0.00            0.0\n",
      "1  02-01-2023  Product D   East              0       10.41            0.0\n",
      "2  03-01-2023  Product D  South              0       14.44            0.0\n",
      "3  04-01-2023  Product A  North             12        0.00            0.0\n",
      "4  05-01-2023  Product B   East              0        0.00            0.0\n",
      "       Quantity Sold  Unit Price  Total Revenue\n",
      "count      50.000000   50.000000      50.000000\n",
      "mean       10.420000    8.332600      76.751200\n",
      "std        11.475066    7.716063     150.427496\n",
      "min         0.000000    0.000000       0.000000\n",
      "25%         0.000000    0.000000       0.000000\n",
      "50%         4.500000   11.415000       0.000000\n",
      "75%        22.000000   14.652500       0.000000\n",
      "max        30.000000   19.450000     525.300000\n",
      "<class 'pandas.core.frame.DataFrame'>\n",
      "RangeIndex: 50 entries, 0 to 49\n",
      "Data columns (total 6 columns):\n",
      " #   Column         Non-Null Count  Dtype  \n",
      "---  ------         --------------  -----  \n",
      " 0   Date           50 non-null     object \n",
      " 1   Product        50 non-null     object \n",
      " 2   Region         50 non-null     object \n",
      " 3   Quantity Sold  50 non-null     int64  \n",
      " 4   Unit Price     50 non-null     float64\n",
      " 5   Total Revenue  50 non-null     float64\n",
      "dtypes: float64(2), int64(1), object(3)\n",
      "memory usage: 2.5+ KB\n",
      "None\n",
      "Date             0\n",
      "Product          0\n",
      "Region           0\n",
      "Quantity Sold    0\n",
      "Unit Price       0\n",
      "Total Revenue    0\n",
      "dtype: int64\n"
     ]
    }
   ],
   "source": [
    "import pandas as pd\n",
    "\n",
    "# Load the dataset\n",
    "data = pd.read_csv(\"AIML Exam 1 sales_data_50.csv\") \n",
    "\n",
    "# Perform EDA\n",
    "print(data.head())  # Display first 5 rows\n",
    "print(data.describe())  # Summary statistics\n",
    "print(data.info())  # Data types and missing values\n",
    "\n",
    "# Check for missing values\n",
    "print(data.isnull().sum())\n"
   ]
  },
  {
   "cell_type": "code",
   "execution_count": 11,
   "id": "e1368728-9187-493c-8553-f135a75d2bfc",
   "metadata": {},
   "outputs": [],
   "source": [
    "import sklearn\n",
    "from sklearn.preprocessing import LabelEncoder, StandardScaler\n",
    "\n",
    "# Handle missing values\n",
    "data.fillna(0, inplace=True)  # Filling missing values with 0 for simplicity\n",
    "\n",
    "# Encode categorical 'Region'\n",
    "le = LabelEncoder()\n",
    "data['Region'] = le.fit_transform(data['Region'])\n",
    "\n",
    "# Standardize numerical features\n",
    "scaler = StandardScaler()\n",
    "data[['Quantity Sold', 'Unit Price']] = scaler.fit_transform(data[['Quantity Sold', 'Unit Price']])\n"
   ]
  },
  {
   "cell_type": "code",
   "execution_count": 50,
   "id": "d3d2f7bd-170b-401e-af6a-f43b234e07b1",
   "metadata": {},
   "outputs": [
    {
     "name": "stdout",
     "output_type": "stream",
     "text": [
      "Linear Regression CV Score: -79.17176269707366\n",
      "Decision Tree CV Score: -31.852999999999998\n",
      "Random Forest CV Score: -51.02142250000001\n"
     ]
    }
   ],
   "source": [
    "from sklearn.model_selection import train_test_split, cross_val_score\n",
    "from sklearn.linear_model import LinearRegression\n",
    "from sklearn.tree import DecisionTreeRegressor\n",
    "from sklearn.ensemble import RandomForestRegressor\n",
    "\n",
    "# Define features (X) and target (y)\n",
    "X = data[['Quantity Sold', 'Unit Price', 'Region']]\n",
    "y = data['Total Revenue']\n",
    "\n",
    "# Split into training and testing sets\n",
    "X_train, X_test, y_train, y_test = train_test_split(X, y, test_size=0.2, random_state=42)\n",
    "\n",
    "# Initialize models\n",
    "models = {\n",
    "    'Linear Regression': LinearRegression(),\n",
    "    'Decision Tree': DecisionTreeRegressor(),\n",
    "    'Random Forest': RandomForestRegressor()\n",
    "}\n",
    "\n",
    "# Evaluate models using cross-validation\n",
    "for name, model in models.items():\n",
    "    cv_score = cross_val_score(model, X_train, y_train, cv=5, scoring='neg_mean_absolute_error')\n",
    "    print(f'{name} CV Score: {cv_score.mean()}')\n"
   ]
  },
  {
   "cell_type": "code",
   "execution_count": null,
   "id": "cd2bd1ad-06ff-4e73-8bb3-23914cdc3b80",
   "metadata": {},
   "outputs": [],
   "source": [
    "from sklearn.model_selection import GridSearchCV\n",
    "import numpy as np\n",
    "\n",
    "param_grid = {\n",
    "    'n_estimators': [100, 200],\n",
    "    'max_depth': [10, 20, None],\n",
    "    'min_samples_split': [2, 5]\n",
    "}\n",
    "\n",
    "grid_search = GridSearchCV(RandomForestRegressor(), param_grid, cv=5)\n",
    "grid_search.fit(X_train, y_train)\n",
    "\n",
    "print(f'Best Parameters: {grid_search.best_params_}')\n",
    "\n",
    "# Evaluate optimized model\n",
    "optimized_model = grid_search.best_estimator_\n",
    "y_pred_opt = optimized_model.predict(X_test)\n",
    "\n",
    "rmse_opt = np.sqrt(mean_squared_error(y_test, y_pred_opt))\n",
    "mae_opt = mean_absolute_error(y_test, y_pred_opt)\n",
    "\n",
    "print(f'Optimized RMSE: {rmse_opt}')\n",
    "print(f'Optimized MAE: {mae_opt}')\n"
   ]
  },
  {
   "cell_type": "code",
   "execution_count": null,
   "id": "d109352f-0ec1-4be0-828a-cf9c3c2dfa4d",
   "metadata": {},
   "outputs": [],
   "source": []
  }
 ],
 "metadata": {
  "kernelspec": {
   "display_name": "Python [conda env:base] *",
   "language": "python",
   "name": "conda-base-py"
  },
  "language_info": {
   "codemirror_mode": {
    "name": "ipython",
    "version": 3
   },
   "file_extension": ".py",
   "mimetype": "text/x-python",
   "name": "python",
   "nbconvert_exporter": "python",
   "pygments_lexer": "ipython3",
   "version": "3.12.7"
  }
 },
 "nbformat": 4,
 "nbformat_minor": 5
}
